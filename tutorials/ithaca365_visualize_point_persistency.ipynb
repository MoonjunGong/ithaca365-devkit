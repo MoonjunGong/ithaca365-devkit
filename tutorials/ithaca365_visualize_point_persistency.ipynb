{
 "cells": [
  {
   "cell_type": "code",
   "execution_count": null,
   "metadata": {},
   "outputs": [],
   "source": [
    "%load_ext autoreload\n",
    "%autoreload 2"
   ]
  },
  {
   "cell_type": "code",
   "execution_count": null,
   "metadata": {},
   "outputs": [],
   "source": [
    "from ithaca365.ithaca365 import Ithaca365\n",
    "from ithaca365.utils.data_io import load_velo_scan\n",
    "import numpy as np\n",
    "import os\n",
    "import os.path as osp"
   ]
  },
  {
   "cell_type": "code",
   "execution_count": null,
   "metadata": {},
   "outputs": [],
   "source": [
    "dataset = Ithaca365(version='v1.1', dataroot='/share/campbell/Skynet/nuScene_format/v1.1', verbose=True)"
   ]
  },
  {
   "cell_type": "markdown",
   "metadata": {},
   "source": [
    "### Import some visualization code"
   ]
  },
  {
   "cell_type": "code",
   "execution_count": null,
   "metadata": {},
   "outputs": [],
   "source": [
    "import plotly.graph_objects as go\n",
    "import plotly.io as pio\n",
    "pio.renderers.default='notebook'\n",
    "ptc_layout_config={\n",
    "    'title': {\n",
    "        'text': 'test vis LiDAR',\n",
    "        'font': {\n",
    "            'size': 20,\n",
    "            'color': 'rgb(150,150,150)',\n",
    "        },\n",
    "        'xanchor': 'left',\n",
    "        'yanchor': 'top'},\n",
    "    'paper_bgcolor': 'rgb(255,255,255)',\n",
    "    'width' : 800,\n",
    "    'height' : 800,\n",
    "    'margin' : {\n",
    "        'l': 20,\n",
    "        'r': 20,\n",
    "        'b': 20,\n",
    "        't': 20\n",
    "    },\n",
    "    'legend': {\n",
    "        'font':{\n",
    "            'size':20,\n",
    "            'color': 'rgb(150,150,150)',\n",
    "        },\n",
    "        'itemsizing': 'constant'\n",
    "    },\n",
    "    \"hoverlabel\": {\n",
    "        \"namelength\": -1,\n",
    "    },\n",
    "    'showlegend': False,\n",
    "    'scene': {\n",
    "          'aspectmode': 'manual',\n",
    "          'aspectratio': {'x': 0.75, 'y': 0.75, 'z': 0.05},\n",
    "          'camera': {'eye': {'x': 0, 'y': 0, 'z': 0.5}},\n",
    "          'xaxis': {'color': 'rgb(150,150,150)',\n",
    "                    'dtick': 10,\n",
    "                    'gridcolor': 'rgb(100,100,100)',\n",
    "                    'range': [-150, 150],\n",
    "                    'showbackground': False,\n",
    "                    'showgrid': True,\n",
    "                    'showline': False,\n",
    "                    'showticklabels': True,\n",
    "                    'tickmode': 'linear',\n",
    "                    'tickprefix': 'x:'},\n",
    "          'yaxis': {'color': 'rgb(150,150,150)',\n",
    "                    'dtick': 10,\n",
    "                    'gridcolor': 'rgb(100,100,100)',\n",
    "                    'range': [-150, 150],\n",
    "                    'showbackground': False,\n",
    "                    'showgrid': True,\n",
    "                    'showline': False,\n",
    "                    'showticklabels': True,\n",
    "                    'tickmode': 'linear',\n",
    "                    'tickprefix': 'y:'},\n",
    "          'zaxis': {'color': 'rgb(150,150,150)',\n",
    "                    'dtick': 10,\n",
    "                    'gridcolor': 'rgb(100,100,100)',\n",
    "                    'range': [-10, 10],\n",
    "                    'showbackground': False,\n",
    "                    'showgrid': True,\n",
    "                    'showline': False,\n",
    "                    'showticklabels': True,\n",
    "                    'tickmode': 'linear',\n",
    "                    'tickprefix': 'z:'}},\n",
    "}\n",
    "\n",
    "def get_lidar(ptc, name='LiDAR', size=0.8):\n",
    "    return [go.Scatter3d(\n",
    "        x=ptc[:,0],\n",
    "        y=ptc[:,1],\n",
    "        z=ptc[:,2],\n",
    "        mode='markers',\n",
    "        marker_size=size,\n",
    "        name=name)]\n",
    "\n",
    "def subsample(points, nbr=200000):\n",
    "    return points[np.random.permutation(points.shape[0])[:nbr]]"
   ]
  },
  {
   "cell_type": "markdown",
   "metadata": {},
   "source": [
    "### History Data"
   ]
  },
  {
   "cell_type": "code",
   "execution_count": null,
   "metadata": {},
   "outputs": [],
   "source": [
    "sd_token = dataset.sample[16]['data']['LIDAR_TOP']"
   ]
  },
  {
   "cell_type": "code",
   "execution_count": null,
   "metadata": {},
   "outputs": [],
   "source": [
    "history_scans = dataset.get_other_traversals(sd_token, sorted_by='time')\n",
    "lidar_sd = dataset.get('sample_data', sd_token)\n",
    "lidar = load_velo_scan(dataset.get_sample_data_path(sd_token))"
   ]
  },
  {
   "cell_type": "code",
   "execution_count": null,
   "metadata": {},
   "outputs": [],
   "source": [
    "fig = go.Figure(data=\n",
    "                get_lidar(lidar, size=0.5) + \\\n",
    "                get_lidar(subsample(list(history_scans.values())[1], 300000), size=0.5), layout=ptc_layout_config)\n",
    "fig.show()"
   ]
  },
  {
   "cell_type": "markdown",
   "metadata": {},
   "source": [
    "### Persistency Score"
   ]
  },
  {
   "cell_type": "code",
   "execution_count": null,
   "metadata": {},
   "outputs": [],
   "source": [
    "persistency_score = dataset.get_point_persistency_score(sd_token, num_histories=20, ranges=(-40, 70))\n",
    "persistency_score.min(), persistency_score.max()"
   ]
  },
  {
   "cell_type": "code",
   "execution_count": null,
   "metadata": {},
   "outputs": [],
   "source": [
    "fig = go.Figure(data=go.Scatter3d(\n",
    "        x=lidar[:,0],\n",
    "        y=lidar[:,1],\n",
    "        z=lidar[:,2],\n",
    "        mode='markers',\n",
    "        marker_size=0.8,\n",
    "        name='persistency',\n",
    "        marker_color=persistency_score,\n",
    "        text=persistency_score,\n",
    "        marker_colorscale='Jet'), layout=ptc_layout_config)\n",
    "fig.show()"
   ]
  },
  {
   "cell_type": "code",
   "execution_count": null,
   "metadata": {},
   "outputs": [],
   "source": []
  }
 ],
 "metadata": {
  "kernelspec": {
   "display_name": "img_hs2",
   "language": "python",
   "name": "img_hs2"
  },
  "language_info": {
   "codemirror_mode": {
    "name": "ipython",
    "version": 3
   },
   "file_extension": ".py",
   "mimetype": "text/x-python",
   "name": "python",
   "nbconvert_exporter": "python",
   "pygments_lexer": "ipython3",
   "version": "3.8.13"
  }
 },
 "nbformat": 4,
 "nbformat_minor": 4
}
