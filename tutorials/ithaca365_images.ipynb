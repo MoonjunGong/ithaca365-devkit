{
 "cells": [
  {
   "cell_type": "markdown",
   "metadata": {},
   "source": [
    "# Ithaca365 amodal segmentation tutorial"
   ]
  },
  {
   "cell_type": "markdown",
   "metadata": {},
   "source": [
    "To initialize the dataset class, we rund the code below. We can change the dataroot parameter if the dataset is installed in a different folder."
   ]
  },
  {
   "cell_type": "code",
   "execution_count": null,
   "metadata": {},
   "outputs": [],
   "source": [
    "#####\n",
    "# This is a hack, in the future the expectation is that this part isn't needed (as it will be a pip install)\n",
    "import sys\n",
    "sys.path.insert(0,'..')\n",
    "#####\n",
    "from ithaca365.ithaca365 import Ithaca365\n",
    "\n",
    "ith365 = Ithaca365(version=\"v2.2\", dataroot=\"/share/campbell/Skynet/nuscenes_test/v2.2\", verbose=True)"
   ]
  },
  {
   "cell_type": "markdown",
   "metadata": {},
   "source": [
    "You can list the scenes in the dataset with list_scenes()"
   ]
  },
  {
   "cell_type": "code",
   "execution_count": null,
   "metadata": {},
   "outputs": [],
   "source": [
    "ith365.list_scenes()"
   ]
  },
  {
   "cell_type": "code",
   "execution_count": null,
   "metadata": {},
   "outputs": [],
   "source": [
    "my_scene = ith365.scene[0]\n",
    "print(my_scene)\n",
    "first_sample_token = my_scene['first_sample_token']\n",
    "my_sample = ith365.get('sample', first_sample_token)\n",
    "print(my_sample)\n",
    "i=0\n",
    "#iterate thru 3 samples\n",
    "while i<125 and my_sample['next']:\n",
    "    my_sample = ith365.get('sample', my_sample['next'])\n",
    "    i+=1"
   ]
  },
  {
   "cell_type": "markdown",
   "metadata": {},
   "source": [
    "You can list the annotations for a sample by using list_anns()"
   ]
  },
  {
   "cell_type": "code",
   "execution_count": null,
   "metadata": {},
   "outputs": [],
   "source": [
    "_,_=ith365.list_anns(my_sample['token'], verbose =True)"
   ]
  },
  {
   "cell_type": "markdown",
   "metadata": {},
   "source": [
    "You can then visualize the annotations by using render_image()"
   ]
  },
  {
   "cell_type": "code",
   "execution_count": null,
   "metadata": {},
   "outputs": [],
   "source": [
    "cam_data_token=my_sample['data']['cam0']\n",
    "ith365.render_image(sd_token= cam_data_token,\n",
    "             annotation_type='all',\n",
    "             with_category=False,\n",
    "             with_attributes=False,\n",
    "             object_tokens = None,\n",
    "             surface_tokens = None,\n",
    "             render_scale= 1.0,\n",
    "             box_line_width=1,\n",
    "             font_size=None)"
   ]
  },
  {
   "cell_type": "markdown",
   "metadata": {},
   "source": [
    "You can retrieve the masks for each object by using get_segmentation()"
   ]
  },
  {
   "cell_type": "code",
   "execution_count": null,
   "metadata": {},
   "outputs": [],
   "source": [
    "semantic_m, instance_m = ith365.get_segmentation(cam_data_token)\n",
    "print(objectm)"
   ]
  },
  {
   "cell_type": "markdown",
   "metadata": {},
   "source": [
    "The surface and object masks can be plotted"
   ]
  },
  {
   "cell_type": "code",
   "execution_count": null,
   "metadata": {},
   "outputs": [],
   "source": [
    "import matplotlib.pyplot as plt"
   ]
  },
  {
   "cell_type": "code",
   "execution_count": null,
   "metadata": {},
   "outputs": [],
   "source": [
    "fig, ax = plt.subplots()\n",
    "ax.imshow(instance_m,cmap=plt.cm.gray)  # use appropriate colormap here"
   ]
  },
  {
   "cell_type": "code",
   "execution_count": null,
   "metadata": {},
   "outputs": [],
   "source": [
    "fig, ax = plt.subplots()\n",
    "ax.imshow(semantic_m,cmap=plt.cm.gray)  # use appropriate colormap here"
   ]
  },
  {
   "cell_type": "code",
   "execution_count": null,
   "metadata": {},
   "outputs": [],
   "source": [
    "(surf_m == object_m).all()"
   ]
  },
  {
   "cell_type": "code",
   "execution_count": null,
   "metadata": {},
   "outputs": [],
   "source": []
  },
  {
   "cell_type": "code",
   "execution_count": null,
   "metadata": {},
   "outputs": [],
   "source": []
  }
 ],
 "metadata": {
  "kernelspec": {
   "display_name": "general",
   "language": "python",
   "name": "general"
  },
  "language_info": {
   "codemirror_mode": {
    "name": "ipython",
    "version": 3
   },
   "file_extension": ".py",
   "mimetype": "text/x-python",
   "name": "python",
   "nbconvert_exporter": "python",
   "pygments_lexer": "ipython3",
   "version": "3.8.12"
  }
 },
 "nbformat": 4,
 "nbformat_minor": 4
}
